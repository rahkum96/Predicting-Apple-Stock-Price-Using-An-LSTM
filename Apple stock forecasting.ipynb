{
 "cells": [
  {
   "cell_type": "markdown",
   "id": "c3bc70d4",
   "metadata": {},
   "source": [
    "# Time-Series Forecasting: Predicting Apple Stock Price Using An LSTM Model\n",
    "Traditionally, most machine learning (ML) models have used some observations (samples / examples) as input features, but the data has no time dimension.\n",
    "\n",
    "Models capable of predicting future values based on previously observed values are known as time-series forecasting models. For non-stationary data, time-series forecasting is widely used. Non-stationary data are those whose statistical features, such as mean and standard deviation, do not remain constant throughout time but instead change.\n",
    "\n",
    "The non-stationary input data used as input to these models is typically called to as time-series. Temperature values over time, stock prices over time, and the price of a property over time are all instances of time-series. As a result, the input is a signal (time-series) characterised by observations recorded in a specific order throughout time."
   ]
  },
  {
   "cell_type": "markdown",
   "id": "5fe8183b",
   "metadata": {},
   "source": [
    "## The LSTM model\n",
    "- Long short-term memory (LSTM) is an artificial recurrent neural network (RNN) architecture used in the field of deep learning\n",
    "\n",
    "- LSTM Models, in a nutshell, can store data throughout time. When working with Time Series or Sequential Data, this is really handy.\n",
    "\n",
    "- The Human Brain is remarkably similar to LSTM Models. When you hear someone speak to you:"
   ]
  },
  {
   "cell_type": "code",
   "execution_count": 1,
   "id": "4facf177",
   "metadata": {},
   "outputs": [],
   "source": [
    "import pandas_datareader as web # to read data from web\n",
    "import pandas as pd\n",
    "import numpy as np"
   ]
  },
  {
   "cell_type": "code",
   "execution_count": 2,
   "id": "3f24304a",
   "metadata": {},
   "outputs": [
    {
     "data": {
      "text/html": [
       "<div>\n",
       "<style scoped>\n",
       "    .dataframe tbody tr th:only-of-type {\n",
       "        vertical-align: middle;\n",
       "    }\n",
       "\n",
       "    .dataframe tbody tr th {\n",
       "        vertical-align: top;\n",
       "    }\n",
       "\n",
       "    .dataframe thead th {\n",
       "        text-align: right;\n",
       "    }\n",
       "</style>\n",
       "<table border=\"1\" class=\"dataframe\">\n",
       "  <thead>\n",
       "    <tr style=\"text-align: right;\">\n",
       "      <th></th>\n",
       "      <th>High</th>\n",
       "      <th>Low</th>\n",
       "      <th>Open</th>\n",
       "      <th>Close</th>\n",
       "      <th>Volume</th>\n",
       "      <th>Adj Close</th>\n",
       "    </tr>\n",
       "    <tr>\n",
       "      <th>Date</th>\n",
       "      <th></th>\n",
       "      <th></th>\n",
       "      <th></th>\n",
       "      <th></th>\n",
       "      <th></th>\n",
       "      <th></th>\n",
       "    </tr>\n",
       "  </thead>\n",
       "  <tbody>\n",
       "    <tr>\n",
       "      <th>2014-12-31</th>\n",
       "      <td>28.282499</td>\n",
       "      <td>27.552500</td>\n",
       "      <td>28.205000</td>\n",
       "      <td>27.594999</td>\n",
       "      <td>165613600.0</td>\n",
       "      <td>25.020121</td>\n",
       "    </tr>\n",
       "    <tr>\n",
       "      <th>2015-01-02</th>\n",
       "      <td>27.860001</td>\n",
       "      <td>26.837500</td>\n",
       "      <td>27.847500</td>\n",
       "      <td>27.332500</td>\n",
       "      <td>212818400.0</td>\n",
       "      <td>24.782112</td>\n",
       "    </tr>\n",
       "    <tr>\n",
       "      <th>2015-01-05</th>\n",
       "      <td>27.162500</td>\n",
       "      <td>26.352501</td>\n",
       "      <td>27.072500</td>\n",
       "      <td>26.562500</td>\n",
       "      <td>257142000.0</td>\n",
       "      <td>24.083963</td>\n",
       "    </tr>\n",
       "    <tr>\n",
       "      <th>2015-01-06</th>\n",
       "      <td>26.857500</td>\n",
       "      <td>26.157499</td>\n",
       "      <td>26.635000</td>\n",
       "      <td>26.565001</td>\n",
       "      <td>263188400.0</td>\n",
       "      <td>24.086226</td>\n",
       "    </tr>\n",
       "    <tr>\n",
       "      <th>2015-01-07</th>\n",
       "      <td>27.049999</td>\n",
       "      <td>26.674999</td>\n",
       "      <td>26.799999</td>\n",
       "      <td>26.937500</td>\n",
       "      <td>160423600.0</td>\n",
       "      <td>24.423967</td>\n",
       "    </tr>\n",
       "  </tbody>\n",
       "</table>\n",
       "</div>"
      ],
      "text/plain": [
       "                 High        Low       Open      Close       Volume  Adj Close\n",
       "Date                                                                          \n",
       "2014-12-31  28.282499  27.552500  28.205000  27.594999  165613600.0  25.020121\n",
       "2015-01-02  27.860001  26.837500  27.847500  27.332500  212818400.0  24.782112\n",
       "2015-01-05  27.162500  26.352501  27.072500  26.562500  257142000.0  24.083963\n",
       "2015-01-06  26.857500  26.157499  26.635000  26.565001  263188400.0  24.086226\n",
       "2015-01-07  27.049999  26.674999  26.799999  26.937500  160423600.0  24.423967"
      ]
     },
     "execution_count": 2,
     "metadata": {},
     "output_type": "execute_result"
    }
   ],
   "source": [
    "# import the data\n",
    "APPL_data= web.DataReader('AAPL',data_source=\"yahoo\",start='2015-01-01',end='2021-09-30')\n",
    "APPL_data.head()"
   ]
  },
  {
   "cell_type": "code",
   "execution_count": 3,
   "id": "02262e31",
   "metadata": {},
   "outputs": [
    {
     "data": {
      "text/plain": [
       "(1700, 6)"
      ]
     },
     "execution_count": 3,
     "metadata": {},
     "output_type": "execute_result"
    }
   ],
   "source": [
    "APPL_data.shape"
   ]
  },
  {
   "cell_type": "code",
   "execution_count": 4,
   "id": "978694c2",
   "metadata": {},
   "outputs": [
    {
     "data": {
      "application/javascript": [
       "\n",
       "        if (window._pyforest_update_imports_cell) { window._pyforest_update_imports_cell('import matplotlib.pyplot as plt'); }\n",
       "    "
      ],
      "text/plain": [
       "<IPython.core.display.Javascript object>"
      ]
     },
     "metadata": {},
     "output_type": "display_data"
    },
    {
     "data": {
      "application/javascript": [
       "\n",
       "        if (window._pyforest_update_imports_cell) { window._pyforest_update_imports_cell('import matplotlib.pyplot as plt'); }\n",
       "    "
      ],
      "text/plain": [
       "<IPython.core.display.Javascript object>"
      ]
     },
     "metadata": {},
     "output_type": "display_data"
    },
    {
     "data": {
      "application/javascript": [
       "\n",
       "        if (window._pyforest_update_imports_cell) { window._pyforest_update_imports_cell('import matplotlib.pyplot as plt'); }\n",
       "    "
      ],
      "text/plain": [
       "<IPython.core.display.Javascript object>"
      ]
     },
     "metadata": {},
     "output_type": "display_data"
    },
    {
     "data": {
      "application/javascript": [
       "\n",
       "        if (window._pyforest_update_imports_cell) { window._pyforest_update_imports_cell('import matplotlib.pyplot as plt'); }\n",
       "    "
      ],
      "text/plain": [
       "<IPython.core.display.Javascript object>"
      ]
     },
     "metadata": {},
     "output_type": "display_data"
    },
    {
     "data": {
      "text/plain": [
       "Text(0.5, 1.0, 'Closing price History')"
      ]
     },
     "execution_count": 4,
     "metadata": {},
     "output_type": "execute_result"
    },
    {
     "data": {
      "image/png": "[encoded data removed]",
      "text/plain": [
       "<Figure size 1152x576 with 1 Axes>"
      ]
     },
     "metadata": {
      "needs_background": "light"
     },
     "output_type": "display_data"
    }
   ],
   "source": [
    "#lets look at the stock closing price of history\n",
    "import seaborn as sns\n",
    "plt.figure(figsize=(16,8))\n",
    "sns.lineplot(x= APPL_data.index,y=APPL_data['Close'])\n",
    "plt.xlabel('Date', fontsize=20)\n",
    "plt.ylabel('closing price USD ($)',fontsize=20)\n",
    "plt.title('Closing price History',fontsize=25)"
   ]
  },
  {
   "cell_type": "markdown",
   "id": "59d788b8",
   "metadata": {},
   "source": [
    "#### I am using the AAPL dataset, which is already divided into training set and test set, but you can do the divison with a simple command!"
   ]
  },
  {
   "cell_type": "code",
   "execution_count": 5,
   "id": "dea9b0b5",
   "metadata": {},
   "outputs": [],
   "source": [
    "# Split into train and test:\n",
    "data_to_train = APPL_data[:1530]\n",
    "data_to_test = APPL_data[1530:]"
   ]
  },
  {
   "cell_type": "code",
   "execution_count": 6,
   "id": "f1f31f26",
   "metadata": {},
   "outputs": [],
   "source": [
    "#Now, we can save the 2 csv files, Train and Test.\n",
    "data_to_train.to_csv('train_data.csv')\n",
    "data_to_test.to_csv('test_data.csv')"
   ]
  },
  {
   "cell_type": "code",
   "execution_count": 7,
   "id": "bf3e3fc0",
   "metadata": {},
   "outputs": [
    {
     "data": {
      "text/html": [
       "<div>\n",
       "<style scoped>\n",
       "    .dataframe tbody tr th:only-of-type {\n",
       "        vertical-align: middle;\n",
       "    }\n",
       "\n",
       "    .dataframe tbody tr th {\n",
       "        vertical-align: top;\n",
       "    }\n",
       "\n",
       "    .dataframe thead th {\n",
       "        text-align: right;\n",
       "    }\n",
       "</style>\n",
       "<table border=\"1\" class=\"dataframe\">\n",
       "  <thead>\n",
       "    <tr style=\"text-align: right;\">\n",
       "      <th></th>\n",
       "      <th>Close</th>\n",
       "    </tr>\n",
       "    <tr>\n",
       "      <th>Date</th>\n",
       "      <th></th>\n",
       "    </tr>\n",
       "  </thead>\n",
       "  <tbody>\n",
       "    <tr>\n",
       "      <th>2014-12-31</th>\n",
       "      <td>27.594999</td>\n",
       "    </tr>\n",
       "    <tr>\n",
       "      <th>2015-01-02</th>\n",
       "      <td>27.332500</td>\n",
       "    </tr>\n",
       "    <tr>\n",
       "      <th>2015-01-05</th>\n",
       "      <td>26.562500</td>\n",
       "    </tr>\n",
       "    <tr>\n",
       "      <th>2015-01-06</th>\n",
       "      <td>26.565001</td>\n",
       "    </tr>\n",
       "    <tr>\n",
       "      <th>2015-01-07</th>\n",
       "      <td>26.937500</td>\n",
       "    </tr>\n",
       "  </tbody>\n",
       "</table>\n",
       "</div>"
      ],
      "text/plain": [
       "                Close\n",
       "Date                 \n",
       "2014-12-31  27.594999\n",
       "2015-01-02  27.332500\n",
       "2015-01-05  26.562500\n",
       "2015-01-06  26.565001\n",
       "2015-01-07  26.937500"
      ]
     },
     "execution_count": 7,
     "metadata": {},
     "output_type": "execute_result"
    }
   ],
   "source": [
    "aapl_data= APPL_data.iloc[: , 3:4]\n",
    "aapl_data.head()"
   ]
  },
  {
   "cell_type": "code",
   "execution_count": 8,
   "id": "3a586dd1",
   "metadata": {},
   "outputs": [],
   "source": [
    "## We want to create a numpy arrary not a vector \n",
    "trainig_set= aapl_data.iloc[:1530,:].values\n"
   ]
  },
  {
   "cell_type": "code",
   "execution_count": 9,
   "id": "c10d660f",
   "metadata": {},
   "outputs": [],
   "source": [
    "test_set= aapl_data.iloc[1530:,:].values\n"
   ]
  },
  {
   "cell_type": "markdown",
   "id": "e057c645",
   "metadata": {},
   "source": [
    "#### It’s a good idea to normalize the data before model fitting. This will boost the performance."
   ]
  },
  {
   "cell_type": "code",
   "execution_count": 10,
   "id": "d720b808",
   "metadata": {},
   "outputs": [],
   "source": [
    "# Feature scalling, Here we will do normalizatioin \n",
    "from sklearn.preprocessing import MinMaxScaler\n",
    "sc= MinMaxScaler(feature_range=(0,1))\n",
    "trainig_set_scaled= sc.fit_transform(trainig_set)"
   ]
  },
  {
   "cell_type": "markdown",
   "id": "bc3c0bd4",
   "metadata": {},
   "source": [
    "#### After scaling the training data, we must format it into a three-dimensional array for use in our LSTM model. We accomplish this by generating 60 timestamps."
   ]
  },
  {
   "cell_type": "code",
   "execution_count": 11,
   "id": "0a43bf07",
   "metadata": {},
   "outputs": [],
   "source": [
    "# Create a data structure with 60 timesteps and 1 output\n",
    "X_train=[] #Independent variables\n",
    "y_train= [] # Dependent variables \n",
    "# I am going to append past 60 days data \n",
    "for i in range(60,1530):\n",
    "    X_train.append(trainig_set_scaled[i-60:i,0]) # Appending prevois 60 days data not including 60\n",
    "    y_train.append(trainig_set_scaled[i,0])\n",
    "    \n",
    "X_train, y_train= np.array(X_train), np.array(y_train)\n"
   ]
  },
  {
   "cell_type": "code",
   "execution_count": 12,
   "id": "09a84e7c",
   "metadata": {},
   "outputs": [
    {
     "data": {
      "text/plain": [
       "((1470, 60), (1470,))"
      ]
     },
     "execution_count": 12,
     "metadata": {},
     "output_type": "execute_result"
    }
   ],
   "source": [
    "# lETS CHECK THE SHAPE OF X_train and y_train\n",
    "X_train.shape, y_train.shape"
   ]
  },
  {
   "cell_type": "markdown",
   "id": "f44320ea",
   "metadata": {},
   "source": [
    "#### We have now reshaped the data into the following format (values, time-steps, 1 dimensional output)."
   ]
  },
  {
   "cell_type": "code",
   "execution_count": 13,
   "id": "a9c0e3e6",
   "metadata": {},
   "outputs": [
    {
     "data": {
      "text/plain": [
       "(1470, 60, 1)"
      ]
     },
     "execution_count": 13,
     "metadata": {},
     "output_type": "execute_result"
    }
   ],
   "source": [
    "# LSMT Model needs to be 3- dimensional, so need to rehsape the x_train, y_train\n",
    "# Reshaping\n",
    "#numpy.reshape(array, shape, order = 'C')\n",
    "X_train= np.reshape(X_train,(X_train.shape[0],X_train.shape[1],1))\n",
    "X_train.shape"
   ]
  },
  {
   "cell_type": "markdown",
   "id": "f78a770e",
   "metadata": {},
   "source": [
    "#### Now, it’s time to build the model. We will build the LSTM with 100 neurons and 5 hidden layers. Finally, we will assign 1 neuron in the output layer for predicting the normalized stock price. We will use the MSE loss function and the Adam stochastic gradient descent optimizer."
   ]
  },
  {
   "cell_type": "code",
   "execution_count": 14,
   "id": "2db39c1b",
   "metadata": {},
   "outputs": [],
   "source": [
    "# Importing the Keras libraries and packages\n",
    "import tensorflow as tf\n",
    "from tensorflow.keras.models import Sequential\n",
    "from tensorflow.keras.layers import Dense, Dropout, LSTM\n",
    "\n",
    "#  Initialising the RNN\n",
    "model= Sequential()\n",
    "\n",
    "# Adding first LSTM layer and some dropout Dropout regularisation\n",
    "model.add(LSTM(units=100,return_sequences=True, input_shape=(X_train.shape[1],1)))\n",
    "model.add(Dropout(rate=0.2))\n",
    "\n",
    "# Adding second LSTM layer and some dropout Dropout regularisation\n",
    "model.add(LSTM(units=100,return_sequences=True))\n",
    "model.add(Dropout(rate=0.2))\n",
    "\n",
    "# Adding third LSTM layer and some dropout Dropout regularisation\n",
    "model.add(LSTM(units=100,return_sequences=True))\n",
    "model.add(Dropout(rate=0.2))\n",
    "\n",
    "# Adding fourth LSTM layer and some dropout Dropout regularisation\n",
    "model.add(LSTM(units=100,return_sequences=True))\n",
    "model.add(Dropout(rate=0.2))\n",
    "\n",
    "# Adding fifth LSTM layer and some dropout Dropout regularisation\n",
    "model.add(LSTM(units=100))\n",
    "model.add(Dropout(rate=0.2))\n",
    "\n",
    "# Adding the Output Layer\n",
    "model.add(Dense(units=1))\n",
    "\n",
    "# Compiling the Model\n",
    "# Because we're doing regression hence mean_squared_error\n",
    "model.compile(loss='mean_squared_error', optimizer='adam')"
   ]
  },
  {
   "cell_type": "code",
   "execution_count": 15,
   "id": "d7dafcf6",
   "metadata": {},
   "outputs": [
    {
     "name": "stdout",
     "output_type": "stream",
     "text": [
      "Model: \"sequential\"\n",
      "_________________________________________________________________\n",
      "Layer (type)                 Output Shape              Param #   \n",
      "=================================================================\n",
      "lstm (LSTM)                  (None, 60, 100)           40800     \n",
      "_________________________________________________________________\n",
      "dropout (Dropout)            (None, 60, 100)           0         \n",
      "_________________________________________________________________\n",
      "lstm_1 (LSTM)                (None, 60, 100)           80400     \n",
      "_________________________________________________________________\n",
      "dropout_1 (Dropout)          (None, 60, 100)           0         \n",
      "_________________________________________________________________\n",
      "lstm_2 (LSTM)                (None, 60, 100)           80400     \n",
      "_________________________________________________________________\n",
      "dropout_2 (Dropout)          (None, 60, 100)           0         \n",
      "_________________________________________________________________\n",
      "lstm_3 (LSTM)                (None, 60, 100)           80400     \n",
      "_________________________________________________________________\n",
      "dropout_3 (Dropout)          (None, 60, 100)           0         \n",
      "_________________________________________________________________\n",
      "lstm_4 (LSTM)                (None, 100)               80400     \n",
      "_________________________________________________________________\n",
      "dropout_4 (Dropout)          (None, 100)               0         \n",
      "_________________________________________________________________\n",
      "dense (Dense)                (None, 1)                 101       \n",
      "=================================================================\n",
      "Total params: 362,501\n",
      "Trainable params: 362,501\n",
      "Non-trainable params: 0\n",
      "_________________________________________________________________\n"
     ]
    }
   ],
   "source": [
    "model.summary()"
   ]
  },
  {
   "cell_type": "markdown",
   "id": "c112f265",
   "metadata": {},
   "source": [
    "**We use Dropout layers to avoid Overfitting problems, and besides that, we use the parameter “return_sequences” to determine if the layer will return a sequence compatible with a LSTM. We use “return_sequences=True” when we have a LSTM layer after**"
   ]
  },
  {
   "cell_type": "code",
   "execution_count": 16,
   "id": "fa362c9e",
   "metadata": {},
   "outputs": [
    {
     "name": "stdout",
     "output_type": "stream",
     "text": [
      "Epoch 1/100\n",
      "46/46 [==============================] - 38s 427ms/step - loss: 0.0085\n",
      "Epoch 2/100\n",
      "46/46 [==============================] - 19s 406ms/step - loss: 0.0032\n",
      "Epoch 3/100\n",
      "46/46 [==============================] - 19s 405ms/step - loss: 0.0030\n",
      "Epoch 4/100\n",
      "46/46 [==============================] - 18s 385ms/step - loss: 0.0018\n",
      "Epoch 5/100\n",
      "46/46 [==============================] - 17s 378ms/step - loss: 0.0023\n",
      "Epoch 6/100\n",
      "46/46 [==============================] - 17s 376ms/step - loss: 0.0015\n",
      "Epoch 7/100\n",
      "46/46 [==============================] - 17s 374ms/step - loss: 0.0016\n",
      "Epoch 8/100\n",
      "46/46 [==============================] - 17s 375ms/step - loss: 0.0012\n",
      "Epoch 9/100\n",
      "46/46 [==============================] - 17s 374ms/step - loss: 0.0017\n",
      "Epoch 10/100\n",
      "46/46 [==============================] - 17s 375ms/step - loss: 0.0017\n",
      "Epoch 11/100\n",
      "46/46 [==============================] - 17s 375ms/step - loss: 0.0012\n",
      "Epoch 12/100\n",
      "46/46 [==============================] - 17s 373ms/step - loss: 0.0016\n",
      "Epoch 13/100\n",
      "46/46 [==============================] - 17s 373ms/step - loss: 0.0014\n",
      "Epoch 14/100\n",
      "46/46 [==============================] - 17s 373ms/step - loss: 0.0013\n",
      "Epoch 15/100\n",
      "46/46 [==============================] - 17s 376ms/step - loss: 0.0014\n",
      "Epoch 16/100\n",
      "46/46 [==============================] - 17s 376ms/step - loss: 0.0016\n",
      "Epoch 17/100\n",
      "46/46 [==============================] - 17s 377ms/step - loss: 0.0012\n",
      "Epoch 18/100\n",
      "46/46 [==============================] - 17s 378ms/step - loss: 0.0011\n",
      "Epoch 19/100\n",
      "46/46 [==============================] - 17s 377ms/step - loss: 0.0011\n",
      "Epoch 20/100\n",
      "46/46 [==============================] - 17s 359ms/step - loss: 0.0014\n",
      "Epoch 21/100\n",
      "46/46 [==============================] - 18s 380ms/step - loss: 0.0011\n",
      "Epoch 22/100\n",
      "46/46 [==============================] - 17s 379ms/step - loss: 9.7642e-04\n",
      "Epoch 23/100\n",
      "46/46 [==============================] - 17s 373ms/step - loss: 9.9201e-04\n",
      "Epoch 24/100\n",
      "46/46 [==============================] - 17s 374ms/step - loss: 8.0673e-04\n",
      "Epoch 25/100\n",
      "46/46 [==============================] - 17s 373ms/step - loss: 9.9517e-04\n",
      "Epoch 26/100\n",
      "46/46 [==============================] - 17s 375ms/step - loss: 0.0011\n",
      "Epoch 27/100\n",
      "46/46 [==============================] - 17s 375ms/step - loss: 9.5443e-04\n",
      "Epoch 28/100\n",
      "46/46 [==============================] - 17s 374ms/step - loss: 9.5968e-04\n",
      "Epoch 29/100\n",
      "46/46 [==============================] - 17s 375ms/step - loss: 0.0011\n",
      "Epoch 30/100\n",
      "46/46 [==============================] - 17s 375ms/step - loss: 0.0010\n",
      "Epoch 31/100\n",
      "46/46 [==============================] - 17s 376ms/step - loss: 8.7322e-04\n",
      "Epoch 32/100\n",
      "46/46 [==============================] - 17s 374ms/step - loss: 9.4119e-04\n",
      "Epoch 33/100\n",
      "46/46 [==============================] - 18s 397ms/step - loss: 0.0011\n",
      "Epoch 34/100\n",
      "46/46 [==============================] - 17s 375ms/step - loss: 9.2280e-04\n",
      "Epoch 35/100\n",
      "46/46 [==============================] - 17s 378ms/step - loss: 8.2354e-04\n",
      "Epoch 36/100\n",
      "46/46 [==============================] - 17s 377ms/step - loss: 9.5226e-04\n",
      "Epoch 37/100\n",
      "46/46 [==============================] - 17s 379ms/step - loss: 8.0796e-04\n",
      "Epoch 38/100\n",
      "46/46 [==============================] - 17s 376ms/step - loss: 9.5051e-04\n",
      "Epoch 39/100\n",
      "46/46 [==============================] - 17s 378ms/step - loss: 9.6402e-04\n",
      "Epoch 40/100\n",
      "46/46 [==============================] - 17s 377ms/step - loss: 8.6356e-04\n",
      "Epoch 41/100\n",
      "46/46 [==============================] - 17s 374ms/step - loss: 7.5121e-04\n",
      "Epoch 42/100\n",
      "46/46 [==============================] - 17s 376ms/step - loss: 7.6412e-04\n",
      "Epoch 43/100\n",
      "46/46 [==============================] - 17s 375ms/step - loss: 7.1796e-04\n",
      "Epoch 44/100\n",
      "46/46 [==============================] - 17s 377ms/step - loss: 8.3779e-04\n",
      "Epoch 45/100\n",
      "46/46 [==============================] - 17s 375ms/step - loss: 7.7904e-04\n",
      "Epoch 46/100\n",
      "46/46 [==============================] - 17s 377ms/step - loss: 9.2045e-04\n",
      "Epoch 47/100\n",
      "46/46 [==============================] - 17s 373ms/step - loss: 8.6128e-04\n",
      "Epoch 48/100\n",
      "46/46 [==============================] - 17s 378ms/step - loss: 7.0507e-04\n",
      "Epoch 49/100\n",
      "46/46 [==============================] - 17s 377ms/step - loss: 7.4401e-04\n",
      "Epoch 50/100\n",
      "46/46 [==============================] - 17s 376ms/step - loss: 8.0927e-04\n",
      "Epoch 51/100\n",
      "46/46 [==============================] - 17s 376ms/step - loss: 6.8178e-04\n",
      "Epoch 52/100\n",
      "46/46 [==============================] - 17s 375ms/step - loss: 6.6149e-04\n",
      "Epoch 53/100\n",
      "46/46 [==============================] - 17s 375ms/step - loss: 7.3909e-04\n",
      "Epoch 54/100\n",
      "46/46 [==============================] - 15s 334ms/step - loss: 6.4877e-04\n",
      "Epoch 55/100\n",
      "46/46 [==============================] - 18s 391ms/step - loss: 7.1886e-04\n",
      "Epoch 56/100\n",
      "46/46 [==============================] - 17s 379ms/step - loss: 6.4773e-04\n",
      "Epoch 57/100\n",
      "46/46 [==============================] - 17s 375ms/step - loss: 7.6325e-04\n",
      "Epoch 58/100\n",
      "46/46 [==============================] - 17s 375ms/step - loss: 6.0896e-04\n",
      "Epoch 59/100\n",
      "46/46 [==============================] - 17s 376ms/step - loss: 6.2899e-04\n",
      "Epoch 60/100\n",
      "46/46 [==============================] - 17s 376ms/step - loss: 7.4233e-04\n",
      "Epoch 61/100\n",
      "46/46 [==============================] - 17s 379ms/step - loss: 6.0655e-04\n",
      "Epoch 62/100\n",
      "46/46 [==============================] - 17s 375ms/step - loss: 6.2678e-04\n",
      "Epoch 63/100\n",
      "46/46 [==============================] - 17s 376ms/step - loss: 6.3083e-04\n",
      "Epoch 64/100\n",
      "46/46 [==============================] - 17s 377ms/step - loss: 7.6947e-04\n",
      "Epoch 65/100\n",
      "46/46 [==============================] - 17s 376ms/step - loss: 6.9442e-04\n",
      "Epoch 66/100\n",
      "46/46 [==============================] - 17s 375ms/step - loss: 7.4281e-04\n",
      "Epoch 67/100\n",
      "46/46 [==============================] - 17s 362ms/step - loss: 6.6596e-04\n",
      "Epoch 68/100\n",
      "46/46 [==============================] - 17s 376ms/step - loss: 6.2649e-04\n",
      "Epoch 69/100\n",
      "46/46 [==============================] - 17s 375ms/step - loss: 5.9570e-04\n",
      "Epoch 70/100\n",
      "46/46 [==============================] - 17s 376ms/step - loss: 5.9493e-04\n",
      "Epoch 71/100\n",
      "46/46 [==============================] - 17s 373ms/step - loss: 6.3514e-04\n",
      "Epoch 72/100\n",
      "46/46 [==============================] - 17s 373ms/step - loss: 6.6829e-04\n",
      "Epoch 73/100\n",
      "46/46 [==============================] - 16s 357ms/step - loss: 7.1892e-04\n",
      "Epoch 74/100\n",
      "46/46 [==============================] - 17s 373ms/step - loss: 6.6129e-04\n",
      "Epoch 75/100\n",
      "46/46 [==============================] - 20s 431ms/step - loss: 6.0611e-04\n",
      "Epoch 76/100\n",
      "46/46 [==============================] - 17s 377ms/step - loss: 5.4323e-04\n",
      "Epoch 77/100\n",
      "46/46 [==============================] - 17s 376ms/step - loss: 6.2197e-04\n",
      "Epoch 78/100\n",
      "46/46 [==============================] - 17s 376ms/step - loss: 7.7724e-04\n",
      "Epoch 79/100\n",
      "46/46 [==============================] - 17s 372ms/step - loss: 7.3546e-04\n",
      "Epoch 80/100\n",
      "46/46 [==============================] - 17s 374ms/step - loss: 6.1211e-04\n",
      "Epoch 81/100\n",
      "46/46 [==============================] - 17s 375ms/step - loss: 5.3323e-04\n",
      "Epoch 82/100\n",
      "46/46 [==============================] - 17s 372ms/step - loss: 5.6726e-04\n",
      "Epoch 83/100\n",
      "46/46 [==============================] - 17s 374ms/step - loss: 5.9030e-04\n",
      "Epoch 84/100\n",
      "46/46 [==============================] - 17s 374ms/step - loss: 5.3269e-04\n",
      "Epoch 85/100\n",
      "46/46 [==============================] - 17s 378ms/step - loss: 5.2827e-04\n",
      "Epoch 86/100\n",
      "46/46 [==============================] - 17s 375ms/step - loss: 5.6455e-04\n",
      "Epoch 87/100\n",
      "46/46 [==============================] - 17s 380ms/step - loss: 5.2100e-04\n",
      "Epoch 88/100\n",
      "46/46 [==============================] - 17s 374ms/step - loss: 5.3477e-04\n",
      "Epoch 89/100\n",
      "46/46 [==============================] - 17s 372ms/step - loss: 6.3427e-04\n",
      "Epoch 90/100\n",
      "46/46 [==============================] - 16s 339ms/step - loss: 7.2732e-04\n",
      "Epoch 91/100\n",
      "46/46 [==============================] - 17s 374ms/step - loss: 4.7691e-04\n",
      "Epoch 92/100\n",
      "46/46 [==============================] - 17s 377ms/step - loss: 4.9073e-04\n",
      "Epoch 93/100\n",
      "46/46 [==============================] - 17s 375ms/step - loss: 5.4666e-04\n",
      "Epoch 94/100\n",
      "46/46 [==============================] - 16s 337ms/step - loss: 5.9316e-04\n",
      "Epoch 95/100\n"
     ]
    },
    {
     "name": "stdout",
     "output_type": "stream",
     "text": [
      "46/46 [==============================] - 17s 379ms/step - loss: 5.9452e-04\n",
      "Epoch 96/100\n",
      "46/46 [==============================] - 17s 376ms/step - loss: 5.4686e-04\n",
      "Epoch 97/100\n",
      "46/46 [==============================] - 17s 376ms/step - loss: 6.3875e-04\n",
      "Epoch 98/100\n",
      "46/46 [==============================] - 17s 374ms/step - loss: 4.8707e-04\n",
      "Epoch 99/100\n",
      "46/46 [==============================] - 17s 378ms/step - loss: 6.2210e-04\n",
      "Epoch 100/100\n",
      "46/46 [==============================] - 17s 374ms/step - loss: 6.6897e-04\n"
     ]
    }
   ],
   "source": [
    "# Fitting the model to the Training set\n",
    "history=model.fit(X_train,y_train,epochs=100,batch_size=32)"
   ]
  },
  {
   "cell_type": "code",
   "execution_count": 17,
   "id": "2366716c",
   "metadata": {},
   "outputs": [
    {
     "data": {
      "application/javascript": [
       "\n",
       "        if (window._pyforest_update_imports_cell) { window._pyforest_update_imports_cell('import matplotlib.pyplot as plt'); }\n",
       "    "
      ],
      "text/plain": [
       "<IPython.core.display.Javascript object>"
      ]
     },
     "metadata": {},
     "output_type": "display_data"
    },
    {
     "data": {
      "application/javascript": [
       "\n",
       "        if (window._pyforest_update_imports_cell) { window._pyforest_update_imports_cell('import matplotlib.pyplot as plt'); }\n",
       "    "
      ],
      "text/plain": [
       "<IPython.core.display.Javascript object>"
      ]
     },
     "metadata": {},
     "output_type": "display_data"
    },
    {
     "data": {
      "application/javascript": [
       "\n",
       "        if (window._pyforest_update_imports_cell) { window._pyforest_update_imports_cell('import matplotlib.pyplot as plt'); }\n",
       "    "
      ],
      "text/plain": [
       "<IPython.core.display.Javascript object>"
      ]
     },
     "metadata": {},
     "output_type": "display_data"
    },
    {
     "data": {
      "application/javascript": [
       "\n",
       "        if (window._pyforest_update_imports_cell) { window._pyforest_update_imports_cell('import matplotlib.pyplot as plt'); }\n",
       "    "
      ],
      "text/plain": [
       "<IPython.core.display.Javascript object>"
      ]
     },
     "metadata": {},
     "output_type": "display_data"
    },
    {
     "data": {
      "application/javascript": [
       "\n",
       "        if (window._pyforest_update_imports_cell) { window._pyforest_update_imports_cell('import matplotlib.pyplot as plt'); }\n",
       "    "
      ],
      "text/plain": [
       "<IPython.core.display.Javascript object>"
      ]
     },
     "metadata": {},
     "output_type": "display_data"
    },
    {
     "data": {
      "image/png": "[encoded data removed]",
      "text/plain": [
       "<Figure size 1080x432 with 1 Axes>"
      ]
     },
     "metadata": {
      "needs_background": "light"
     },
     "output_type": "display_data"
    }
   ],
   "source": [
    "# Evaluating The Model\n",
    "plt.figure(figsize=(15,6))\n",
    "plt.plot(history.history['loss'])\n",
    "plt.xlabel('Epochs')\n",
    "plt.ylabel('Loss')\n",
    "plt.show()\n"
   ]
  },
  {
   "cell_type": "markdown",
   "id": "3d1fd1b1",
   "metadata": {},
   "source": [
    "## Making Predictions\n",
    "To make predictions, we need to use our Test Dataset and format him like we did in the Train Dataset before."
   ]
  },
  {
   "cell_type": "code",
   "execution_count": 18,
   "id": "eb7ea4e5",
   "metadata": {},
   "outputs": [],
   "source": [
    "#GEtting ready both train and est data set\n",
    "train_data= pd.read_csv('train_data.csv')\n",
    "test_data= pd.read_csv('test_data.csv')"
   ]
  },
  {
   "cell_type": "code",
   "execution_count": 19,
   "id": "28e48056",
   "metadata": {},
   "outputs": [],
   "source": [
    "real_stock_price = test_data.iloc[:, 3:4].values"
   ]
  },
  {
   "cell_type": "code",
   "execution_count": 20,
   "id": "fa48413d",
   "metadata": {},
   "outputs": [
    {
     "data": {
      "text/plain": [
       "(170, 1)"
      ]
     },
     "execution_count": 20,
     "metadata": {},
     "output_type": "execute_result"
    }
   ],
   "source": [
    "real_stock_price.shape"
   ]
  },
  {
   "cell_type": "code",
   "execution_count": 21,
   "id": "f9f9682e",
   "metadata": {},
   "outputs": [
    {
     "data": {
      "text/plain": [
       "(170, 1)"
      ]
     },
     "execution_count": 21,
     "metadata": {},
     "output_type": "execute_result"
    }
   ],
   "source": [
    "test_set.shape"
   ]
  },
  {
   "cell_type": "code",
   "execution_count": 22,
   "id": "19dc34f9",
   "metadata": {},
   "outputs": [],
   "source": [
    "# Hence we will concatenate the dataset and then scale them\n",
    "data_total= pd.concat([train_data['Close'], test_data['Close']],  axis=0)\n",
    "inputs= data_total[len(data_total)-len(test_data)-60:].values \n",
    "inputs = inputs.reshape(-1,1) \n",
    "inputs = sc.transform(inputs)\n",
    "\n",
    "X_test = []\n",
    "for i in range(60, 230):\n",
    "    X_test.append(inputs[i-60:i, 0])\n",
    "\n",
    "X_test = np.array(X_test)\n",
    "# 3D format\n",
    "X_test = np.reshape(X_test, (X_test.shape[0], X_test.shape[1], 1))\n"
   ]
  },
  {
   "cell_type": "code",
   "execution_count": 23,
   "id": "d358bbc1",
   "metadata": {},
   "outputs": [
    {
     "data": {
      "text/plain": [
       "(230, 1)"
      ]
     },
     "execution_count": 23,
     "metadata": {},
     "output_type": "execute_result"
    }
   ],
   "source": [
    "inputs.shape"
   ]
  },
  {
   "cell_type": "code",
   "execution_count": 24,
   "id": "ced5aec5",
   "metadata": {},
   "outputs": [
    {
     "data": {
      "text/plain": [
       "(1700,)"
      ]
     },
     "execution_count": 24,
     "metadata": {},
     "output_type": "execute_result"
    }
   ],
   "source": [
    "data_total.shape"
   ]
  },
  {
   "cell_type": "code",
   "execution_count": 25,
   "id": "cb614e94",
   "metadata": {},
   "outputs": [
    {
     "data": {
      "text/plain": [
       "(170, 60, 1)"
      ]
     },
     "execution_count": 25,
     "metadata": {},
     "output_type": "execute_result"
    }
   ],
   "source": [
    "X_test.shape"
   ]
  },
  {
   "cell_type": "markdown",
   "id": "b1ee27e3",
   "metadata": {},
   "source": [
    "#### After format the Test Data, we can make predictions in our X_test."
   ]
  },
  {
   "cell_type": "code",
   "execution_count": 26,
   "id": "a143e7d4",
   "metadata": {},
   "outputs": [],
   "source": [
    "#preict the model\n",
    "predicted_stock_price = model.predict(X_test)"
   ]
  },
  {
   "cell_type": "markdown",
   "id": "5e1caabf",
   "metadata": {},
   "source": [
    "#### But before plot our predictions, we need to make a inverse_transform() in the predictions array, because we make predictions using the Scale, so our predictions are between 0 and 1."
   ]
  },
  {
   "cell_type": "code",
   "execution_count": 27,
   "id": "5df60d60",
   "metadata": {},
   "outputs": [],
   "source": [
    "# Inverse the scaling\n",
    "predicted_stock_price = sc.inverse_transform(predicted_stock_price)"
   ]
  },
  {
   "cell_type": "code",
   "execution_count": 31,
   "id": "ef62b524",
   "metadata": {},
   "outputs": [
    {
     "data": {
      "application/javascript": [
       "\n",
       "        if (window._pyforest_update_imports_cell) { window._pyforest_update_imports_cell('import matplotlib.pyplot as plt'); }\n",
       "    "
      ],
      "text/plain": [
       "<IPython.core.display.Javascript object>"
      ]
     },
     "metadata": {},
     "output_type": "display_data"
    },
    {
     "data": {
      "application/javascript": [
       "\n",
       "        if (window._pyforest_update_imports_cell) { window._pyforest_update_imports_cell('import matplotlib.pyplot as plt'); }\n",
       "    "
      ],
      "text/plain": [
       "<IPython.core.display.Javascript object>"
      ]
     },
     "metadata": {},
     "output_type": "display_data"
    },
    {
     "data": {
      "application/javascript": [
       "\n",
       "        if (window._pyforest_update_imports_cell) { window._pyforest_update_imports_cell('import matplotlib.pyplot as plt'); }\n",
       "    "
      ],
      "text/plain": [
       "<IPython.core.display.Javascript object>"
      ]
     },
     "metadata": {},
     "output_type": "display_data"
    },
    {
     "data": {
      "application/javascript": [
       "\n",
       "        if (window._pyforest_update_imports_cell) { window._pyforest_update_imports_cell('import matplotlib.pyplot as plt'); }\n",
       "    "
      ],
      "text/plain": [
       "<IPython.core.display.Javascript object>"
      ]
     },
     "metadata": {},
     "output_type": "display_data"
    },
    {
     "data": {
      "application/javascript": [
       "\n",
       "        if (window._pyforest_update_imports_cell) { window._pyforest_update_imports_cell('import matplotlib.pyplot as plt'); }\n",
       "    "
      ],
      "text/plain": [
       "<IPython.core.display.Javascript object>"
      ]
     },
     "metadata": {},
     "output_type": "display_data"
    },
    {
     "data": {
      "application/javascript": [
       "\n",
       "        if (window._pyforest_update_imports_cell) { window._pyforest_update_imports_cell('import matplotlib.pyplot as plt'); }\n",
       "    "
      ],
      "text/plain": [
       "<IPython.core.display.Javascript object>"
      ]
     },
     "metadata": {},
     "output_type": "display_data"
    },
    {
     "data": {
      "application/javascript": [
       "\n",
       "        if (window._pyforest_update_imports_cell) { window._pyforest_update_imports_cell('import matplotlib.pyplot as plt'); }\n",
       "    "
      ],
      "text/plain": [
       "<IPython.core.display.Javascript object>"
      ]
     },
     "metadata": {},
     "output_type": "display_data"
    },
    {
     "data": {
      "application/javascript": [
       "\n",
       "        if (window._pyforest_update_imports_cell) { window._pyforest_update_imports_cell('import matplotlib.pyplot as plt'); }\n",
       "    "
      ],
      "text/plain": [
       "<IPython.core.display.Javascript object>"
      ]
     },
     "metadata": {},
     "output_type": "display_data"
    },
    {
     "data": {
      "image/png": "[encoded data removed]",
      "text/plain": [
       "<Figure size 1080x576 with 1 Axes>"
      ]
     },
     "metadata": {
      "needs_background": "light"
     },
     "output_type": "display_data"
    }
   ],
   "source": [
    "# Visualising the results\n",
    "plt.figure(figsize=(15,8))\n",
    "plt.plot(real_stock_price, color='Red', label='Real Apple Stock Price')\n",
    "plt.plot(predicted_stock_price, color='Blue', label='Predicted Apple Stock Price')\n",
    "plt.title('Apple Stock Price Prediction',fontsize=20)\n",
    "plt.xlabel('Time', fontsize=15)\n",
    "plt.ylabel('Apple Stock Price',fontsize=15)\n",
    "plt.legend()\n",
    "plt.show()"
   ]
  },
  {
   "cell_type": "code",
   "execution_count": 32,
   "id": "90645265",
   "metadata": {},
   "outputs": [
    {
     "data": {
      "application/javascript": [
       "\n",
       "        if (window._pyforest_update_imports_cell) { window._pyforest_update_imports_cell('import matplotlib.pyplot as plt'); }\n",
       "    "
      ],
      "text/plain": [
       "<IPython.core.display.Javascript object>"
      ]
     },
     "metadata": {},
     "output_type": "display_data"
    },
    {
     "data": {
      "application/javascript": [
       "\n",
       "        if (window._pyforest_update_imports_cell) { window._pyforest_update_imports_cell('import matplotlib.pyplot as plt'); }\n",
       "    "
      ],
      "text/plain": [
       "<IPython.core.display.Javascript object>"
      ]
     },
     "metadata": {},
     "output_type": "display_data"
    },
    {
     "data": {
      "application/javascript": [
       "\n",
       "        if (window._pyforest_update_imports_cell) { window._pyforest_update_imports_cell('import matplotlib.pyplot as plt'); }\n",
       "    "
      ],
      "text/plain": [
       "<IPython.core.display.Javascript object>"
      ]
     },
     "metadata": {},
     "output_type": "display_data"
    },
    {
     "data": {
      "application/javascript": [
       "\n",
       "        if (window._pyforest_update_imports_cell) { window._pyforest_update_imports_cell('import matplotlib.pyplot as plt'); }\n",
       "    "
      ],
      "text/plain": [
       "<IPython.core.display.Javascript object>"
      ]
     },
     "metadata": {},
     "output_type": "display_data"
    },
    {
     "data": {
      "application/javascript": [
       "\n",
       "        if (window._pyforest_update_imports_cell) { window._pyforest_update_imports_cell('import matplotlib.pyplot as plt'); }\n",
       "    "
      ],
      "text/plain": [
       "<IPython.core.display.Javascript object>"
      ]
     },
     "metadata": {},
     "output_type": "display_data"
    },
    {
     "data": {
      "application/javascript": [
       "\n",
       "        if (window._pyforest_update_imports_cell) { window._pyforest_update_imports_cell('import matplotlib.pyplot as plt'); }\n",
       "    "
      ],
      "text/plain": [
       "<IPython.core.display.Javascript object>"
      ]
     },
     "metadata": {},
     "output_type": "display_data"
    },
    {
     "data": {
      "application/javascript": [
       "\n",
       "        if (window._pyforest_update_imports_cell) { window._pyforest_update_imports_cell('import matplotlib.pyplot as plt'); }\n",
       "    "
      ],
      "text/plain": [
       "<IPython.core.display.Javascript object>"
      ]
     },
     "metadata": {},
     "output_type": "display_data"
    },
    {
     "data": {
      "application/javascript": [
       "\n",
       "        if (window._pyforest_update_imports_cell) { window._pyforest_update_imports_cell('import matplotlib.pyplot as plt'); }\n",
       "    "
      ],
      "text/plain": [
       "<IPython.core.display.Javascript object>"
      ]
     },
     "metadata": {},
     "output_type": "display_data"
    },
    {
     "data": {
      "image/png": "[encoded data removed]",
      "text/plain": [
       "<Figure size 1080x576 with 1 Axes>"
      ]
     },
     "metadata": {
      "needs_background": "light"
     },
     "output_type": "display_data"
    }
   ],
   "source": [
    "# Visualising the results\n",
    "plt.figure(figsize=(15,8))\n",
    "plt.plot(test_set, color='Red', label='Real Apple Stock Price')\n",
    "plt.plot(predicted_stock_price, color='Blue', label='Predicted Apple Stock Price')\n",
    "plt.title('Apple Stock Price Prediction')\n",
    "plt.xlabel('Time')\n",
    "plt.ylabel('Apple Stock Price')\n",
    "plt.legend()\n",
    "plt.show()"
   ]
  },
  {
   "cell_type": "markdown",
   "id": "7c9645d2",
   "metadata": {},
   "source": [
    "### Conclusion:"
   ]
  },
  {
   "cell_type": "markdown",
   "id": "23790188",
   "metadata": {},
   "source": [
    "Our model performed admirably, as can be seen. It can accurately follow most unusual jumps/drops; however, we can observe that the model expected (predicted) lower values than the actual stock price for the most recent date stamps."
   ]
  },
  {
   "cell_type": "code",
   "execution_count": null,
   "id": "9207c1bd",
   "metadata": {},
   "outputs": [],
   "source": []
  }
 ],
 "metadata": {
  "kernelspec": {
   "display_name": "Python 3",
   "language": "python",
   "name": "python3"
  },
  "language_info": {
   "codemirror_mode": {
    "name": "ipython",
    "version": 3
   },
   "file_extension": ".py",
   "mimetype": "text/x-python",
   "name": "python",
   "nbconvert_exporter": "python",
   "pygments_lexer": "ipython3",
   "version": "3.8.8"
  }
 },
 "nbformat": 4,
 "nbformat_minor": 5
}
